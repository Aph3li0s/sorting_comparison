{
  "cells": [
    {
      "cell_type": "code",
      "execution_count": 15,
      "metadata": {
        "id": "ssdd4Bxk1mhk"
      },
      "outputs": [],
      "source": [
        "import matplotlib.pyplot as plt\n",
        "import pandas as pd\n",
        "import numpy as np"
      ]
    },
    {
      "cell_type": "code",
      "execution_count": 2,
      "metadata": {
        "colab": {
          "base_uri": "https://localhost:8080/"
        },
        "id": "_SoYh4igjWe2",
        "outputId": "0b8c3d04-e12d-4dca-f22c-94ec69478354"
      },
      "outputs": [
        {
          "name": "stdout",
          "output_type": "stream",
          "text": [
            "Cloning into 'sorting_comparison'...\n",
            "remote: Enumerating objects: 50, done.\u001b[K\n",
            "remote: Counting objects: 100% (11/11), done.\u001b[K\n",
            "remote: Compressing objects: 100% (8/8), done.\u001b[K\n",
            "remote: Total 50 (delta 4), reused 6 (delta 3), pack-reused 39\u001b[K\n",
            "Unpacking objects: 100% (50/50), 50.69 MiB | 6.93 MiB/s, done.\n",
            "Updating files: 100% (17/17), done.\n"
          ]
        }
      ],
      "source": [
        "!git clone https://github.com/Aph3li0s/sorting_comparison"
      ]
    },
    {
      "cell_type": "code",
      "execution_count": 6,
      "metadata": {
        "colab": {
          "base_uri": "https://localhost:8080/"
        },
        "id": "IIqkbQ_tkuAf",
        "outputId": "fec6142d-0258-4364-8fac-997dada4a6ac"
      },
      "outputs": [
        {
          "name": "stdout",
          "output_type": "stream",
          "text": [
            "/content/sorting_comparison/main\n",
            "/content/sorting_comparison/main\n"
          ]
        }
      ],
      "source": [
        "#run once\n",
        "#Tạo folder output để lưu kết quả thời gian chạy\n",
        "%cd /content/sorting_comparison\n",
        "!mkdir output\n",
        "%cd /content/sorting_comparison/main\n",
        "!pwd"
      ]
    },
    {
      "cell_type": "code",
      "execution_count": null,
      "metadata": {},
      "outputs": [],
      "source": [
        "!python3 /content/sorting_comparison/random_num.py\n",
        "#Random data"
      ]
    },
    {
      "cell_type": "code",
      "execution_count": 65,
      "metadata": {
        "id": "8e-vHDAPmt0A"
      },
      "outputs": [],
      "source": [
        "#Quicksort\n",
        "%%bash\n",
        "g++ quicksort.cpp -std=c++17 -o test\n",
        "./test > ../output/output_quicksort.txt"
      ]
    },
    {
      "cell_type": "code",
      "execution_count": 66,
      "metadata": {
        "id": "Vt5KdiJEqupb"
      },
      "outputs": [],
      "source": [
        "#Mergesort\n",
        "%%bash\n",
        "g++ mergesort.cpp -std=c++17 -o test\n",
        "./test > ../output/output_mergesort.txt"
      ]
    },
    {
      "cell_type": "code",
      "execution_count": 67,
      "metadata": {
        "id": "fvFP1uPyrXyI"
      },
      "outputs": [],
      "source": [
        "#Heapsort\n",
        "%%bash\n",
        "g++ heapsort.cpp -std=c++17 -o test\n",
        "./test > ../output/output_heapsort.txt"
      ]
    },
    {
      "cell_type": "code",
      "execution_count": 68,
      "metadata": {
        "id": "_OyNtu7breeP"
      },
      "outputs": [],
      "source": [
        "#SortC++\n",
        "%%bash\n",
        "g++ sort_c.cpp -std=c++17 -o test\n",
        "./test > ../output/output_sortc.txt"
      ]
    },
    {
      "cell_type": "code",
      "execution_count": 69,
      "metadata": {
        "colab": {
          "base_uri": "https://localhost:8080/"
        },
        "id": "600HqmwL89aZ",
        "outputId": "28f607a4-8551-4c1a-84a3-11bfa156cd5b"
      },
      "outputs": [
        {
          "name": "stdout",
          "output_type": "stream",
          "text": [
            "[[60, 64, 312, 303, 301, 275, 266, 265, 273, 268], [184, 203, 324, 312, 317, 314, 319, 324, 314, 320], [690, 659, 744, 707, 716, 710, 716, 717, 724, 715], [105, 85, 395, 396, 352, 295, 303, 295, 301, 299]]\n"
          ]
        }
      ],
      "source": [
        "#Lưu giá trị vào nested list\n",
        "value = [] * 4\n",
        "s = \"quicksort\"\n",
        "for t in range(4):\n",
        "  if t == 0:\n",
        "    s = \"quicksort\"\n",
        "  if t == 1:\n",
        "    s = \"mergesort\"\n",
        "  if t == 2:\n",
        "    s = \"heapsort\"\n",
        "  if t == 3:\n",
        "    s = \"sortc\"\n",
        "  tmp = []\n",
        "  with open(\"../output/output_\" + s + \".txt\") as f:\n",
        "    for i in range (10):\n",
        "      s = f.readline()\n",
        "      index = s.find(\":\") + 2\n",
        "      tmp.append(int(s[index:-3]))\n",
        "    value.append(tmp) \n",
        "\n",
        "print(value)\n"
      ]
    },
    {
      "cell_type": "code",
      "execution_count": 95,
      "metadata": {
        "colab": {
          "base_uri": "https://localhost:8080/",
          "height": 407
        },
        "id": "ogXQ8vzfSWza",
        "outputId": "3b53d64b-7310-4bed-cc57-2ed4bf7ecf5d"
      },
      "outputs": [
        {
          "data": {
            "image/png": "[encoded data removed]",
            "text/plain": [
              "<Figure size 864x432 with 1 Axes>"
            ]
          },
          "metadata": {
            "needs_background": "light"
          },
          "output_type": "display_data"
        }
      ],
      "source": [
        "#Biểu đồ mô tả\n",
        "x_axis = [1,2,3,4,5,6,7,8,9,10]\n",
        "fig, ax = plt.subplots(figsize=(12, 6))\n",
        "for i in range(4):\n",
        "  if i == 0:\n",
        "    colr = 'red'\n",
        "  if i == 1:\n",
        "    colr = 'blue'\n",
        "  if i == 2:\n",
        "    colr = 'green'\n",
        "  if i == 3:\n",
        "    colr = 'purple'\n",
        "  y_axis = value[i]\n",
        "  data = {'data': x_axis,\n",
        "          'times': y_axis,\n",
        "          \n",
        "         }\n",
        "  df = pd.DataFrame(data)\n",
        "  plt.plot(df['data'], df['times'], color= colr, marker='o')\n",
        "ax.set_xticks(x_axis)\n",
        "plt.title('Sorting Algorithms runtime', fontsize=12)\n",
        "plt.xlabel('Data', fontsize=12)\n",
        "plt.ylabel('Times taken (ms)', fontsize=12)\n",
        "plt.legend(['Quicksort','Mergesort', 'Heapsort', 'C++ Sort' ])\n",
        "plt.grid(True)\n",
        "plt.show()"
      ]
    },
    {
      "cell_type": "code",
      "execution_count": null,
      "metadata": {
        "id": "X3J19wUThHw_"
      },
      "outputs": [],
      "source": []
    },
    {
      "cell_type": "code",
      "execution_count": null,
      "metadata": {
        "id": "Krno6zsNYdpa"
      },
      "outputs": [],
      "source": []
    }
  ],
  "metadata": {
    "colab": {
      "provenance": []
    },
    "kernelspec": {
      "display_name": "Python 3",
      "name": "python3"
    },
    "language_info": {
      "name": "python",
      "version": "3.9.13"
    }
  },
  "nbformat": 4,
  "nbformat_minor": 0
}
